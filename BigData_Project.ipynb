{
  "nbformat": 4,
  "nbformat_minor": 0,
  "metadata": {
    "colab": {
      "name": "BigData_Project_test.ipynb",
      "provenance": [],
      "collapsed_sections": [
        "Qaxc0KfFVqZa",
        "u1u5Kh6vTvLy",
        "9FcfYd38sBPf",
        "FVIWaucmZWIs"
      ],
      "toc_visible": true
    },
    "kernelspec": {
      "name": "python3",
      "display_name": "Python 3"
    }
  },
  "cells": [
    {
      "cell_type": "markdown",
      "metadata": {
        "id": "GIDpZCqDUYYf"
      },
      "source": [
        "###Importing pyspark and related libraries"
      ]
    },
    {
      "cell_type": "code",
      "metadata": {
        "id": "QBw33WCPkK01"
      },
      "source": [
        "!apt-get install openjdk-8-jdk-headless -qq > /dev/null\n",
        "!wget -q https://www-us.apache.org/dist/spark/spark-2.4.5/spark-2.4.5-bin-hadoop2.7.tgz\n",
        "!tar xf spark-2.4.5-bin-hadoop2.7.tgz\n",
        "!pip install -q findspark\n",
        "\n",
        "\n",
        "import os\n",
        "os.environ[\"JAVA_HOME\"] = \"/usr/lib/jvm/java-8-openjdk-amd64\"\n",
        "os.environ[\"SPARK_HOME\"] = \"/content/spark-2.4.5-bin-hadoop2.7\"\n",
        "\n",
        "import findspark\n",
        "findspark.init()\n",
        "from pyspark.sql.functions import desc, col, array, explode, struct, lit\n",
        "import pyspark.sql.functions as psf\n",
        "from pyspark.ml.regression import LinearRegression\n",
        "from pyspark.ml.evaluation import RegressionEvaluator\n",
        "from pyspark.sql.types import DateType\n",
        "from pyspark.sql import Window\n",
        "from pyspark.sql import SparkSession\n",
        "from pyspark.ml.feature import VectorAssembler\n",
        "from pyspark.ml.tuning import TrainValidationSplit, ParamGridBuilder, CrossValidator"
      ],
      "execution_count": null,
      "outputs": []
    },
    {
      "cell_type": "markdown",
      "metadata": {
        "id": "_UhCqwGFTA6H"
      },
      "source": [
        "###Declaring Spark context and spark session objects"
      ]
    },
    {
      "cell_type": "code",
      "metadata": {
        "id": "RvqkplSQkY-N"
      },
      "source": [
        "#Declaring Spark context and spark session objects\n",
        "from pyspark import SparkContext\n",
        "sc= SparkContext(\"local\",\"project context\");\n",
        "sc.setLogLevel(\"Error\")\n",
        "spark = SparkSession(sc)"
      ],
      "execution_count": null,
      "outputs": []
    },
    {
      "cell_type": "markdown",
      "metadata": {
        "id": "r0PvETVABdLO"
      },
      "source": [
        "**Importing data and Removing null values**"
      ]
    },
    {
      "cell_type": "code",
      "metadata": {
        "id": "3TaiIjx2kvDe",
        "colab": {
          "base_uri": "https://localhost:8080/",
          "height": 360
        },
        "outputId": "c44aebc9-697e-49c9-e1ce-3c3d7d6da586"
      },
      "source": [
        "#Removing null values\n",
        "\n",
        "#covidData = spark.read.option(\"inferSchema\",\"true\").option(\"header\",\"true\").csv(\"time_series_19-covid-Confirmed_archived_0325.csv\")\n",
        "covidData = spark.read.option(\"inferSchema\",\"true\").option(\"header\",\"true\").csv(\"/content/drive/My Drive/Colab Notebooks/BigData/time_series_19-covid-Confirmed_archived_0325.csv\")\n",
        "beforeClean =covidData.count()\n",
        "\n",
        "covidData = covidData.na.drop(\"any\")\n",
        "print(beforeClean)\n",
        "print(covidData.count())\n",
        "print(\"Null rows removed: \" + str(beforeClean - covidData.count()))\n",
        "covidData.show(10)"
      ],
      "execution_count": null,
      "outputs": [
        {
          "output_type": "stream",
          "text": [
            "501\n",
            "135\n",
            "Null rows removed: 366\n",
            "+--------------------+--------------+--------+---------+-------+-------+-------+-------+-------+-------+-------+-------+-------+-------+------+------+------+------+------+------+------+------+------+-------+-------+-------+-------+-------+-------+-------+-------+-------+-------+-------+-------+-------+-------+-------+-------+-------+-------+-------+-------+------+------+------+------+------+------+------+------+------+-------+-------+-------+-------+-------+-------+-------+-------+-------+-------+-------+-------+-------+-------+\n",
            "|      Province/State|Country/Region|     Lat|     Long|1/22/20|1/23/20|1/24/20|1/25/20|1/26/20|1/27/20|1/28/20|1/29/20|1/30/20|1/31/20|2/1/20|2/2/20|2/3/20|2/4/20|2/5/20|2/6/20|2/7/20|2/8/20|2/9/20|2/10/20|2/11/20|2/12/20|2/13/20|2/14/20|2/15/20|2/16/20|2/17/20|2/18/20|2/19/20|2/20/20|2/21/20|2/22/20|2/23/20|2/24/20|2/25/20|2/26/20|2/27/20|2/28/20|2/29/20|3/1/20|3/2/20|3/3/20|3/4/20|3/5/20|3/6/20|3/7/20|3/8/20|3/9/20|3/10/20|3/11/20|3/12/20|3/13/20|3/14/20|3/15/20|3/16/20|3/17/20|3/18/20|3/19/20|3/20/20|3/21/20|3/22/20|3/23/20|\n",
            "+--------------------+--------------+--------+---------+-------+-------+-------+-------+-------+-------+-------+-------+-------+-------+------+------+------+------+------+------+------+------+------+-------+-------+-------+-------+-------+-------+-------+-------+-------+-------+-------+-------+-------+-------+-------+-------+-------+-------+-------+-------+------+------+------+------+------+------+------+------+------+-------+-------+-------+-------+-------+-------+-------+-------+-------+-------+-------+-------+-------+-------+\n",
            "|    British Columbia|        Canada| 49.2827|-123.1207|      0|      0|      0|      0|      0|      0|      1|      1|      1|      1|     1|     1|     1|     1|     2|     2|     4|     4|     4|      4|      4|      4|      4|      4|      4|      4|      5|      5|      5|      5|      6|      6|      6|      6|      7|      7|      7|      7|      8|     8|     8|     9|    12|    13|    21|    21|    27|    32|     32|     39|     46|     64|     64|     73|    103|    103|    186|    231|    271|    424|    424|    424|\n",
            "|     New South Wales|     Australia|-33.8688| 151.2093|      0|      0|      0|      0|      3|      4|      4|      4|      4|      4|     4|     4|     4|     4|     4|     4|     4|     4|     4|      4|      4|      4|      4|      4|      4|      4|      4|      4|      4|      4|      4|      4|      4|      4|      4|      4|      4|      4|      4|     6|     6|    13|    22|    22|    26|    28|    38|    48|     55|     65|     65|     92|    112|    134|    171|    210|    267|    307|    353|    436|    533|    533|\n",
            "|            Victoria|     Australia|-37.8136| 144.9631|      0|      0|      0|      0|      1|      1|      1|      1|      2|      3|     4|     4|     4|     4|     4|     4|     4|     4|     4|      4|      4|      4|      4|      4|      4|      4|      4|      4|      4|      4|      4|      4|      4|      4|      4|      4|      4|      4|      7|     7|     9|     9|    10|    10|    10|    11|    11|    15|     18|     21|     21|     36|     49|     57|     71|     94|    121|    121|    121|    229|    296|    296|\n",
            "|          Queensland|     Australia|-28.0167|    153.4|      0|      0|      0|      0|      0|      0|      0|      1|      3|      2|     3|     2|     2|     3|     3|     4|     5|     5|     5|      5|      5|      5|      5|      5|      5|      5|      5|      5|      5|      5|      5|      5|      5|      5|      5|      5|      5|      5|      9|     9|     9|    11|    11|    13|    13|    13|    15|    15|     18|     20|     20|     35|     46|     61|     68|     78|     94|    144|    184|    221|    221|    221|\n",
            "|     South Australia|     Australia|-34.9285| 138.6007|      0|      0|      0|      0|      0|      0|      0|      0|      0|      0|     1|     2|     2|     2|     2|     2|     2|     2|     2|      2|      2|      2|      2|      2|      2|      2|      2|      2|      2|      2|      2|      2|      2|      2|      2|      2|      2|      2|      3|     3|     3|     3|     5|     5|     7|     7|     7|     7|      7|      9|      9|     16|     19|     20|     29|     29|     37|     42|     50|     67|    100|    100|\n",
            "|From Diamond Prin...|     Australia| 35.4437|  139.638|      0|      0|      0|      0|      0|      0|      0|      0|      0|      0|     0|     0|     0|     0|     0|     0|     0|     0|     0|      0|      0|      0|      0|      0|      0|      0|      0|      0|      0|      0|      4|      7|      7|      7|      7|      7|      8|      8|      0|     0|     0|     0|     0|     0|     0|     0|     0|     0|      0|      0|      0|      0|      0|      0|      0|      0|      0|      0|      0|      0|      0|      0|\n",
            "|   Western Australia|     Australia|-31.9505| 115.8605|      0|      0|      0|      0|      0|      0|      0|      0|      0|      0|     0|     0|     0|     0|     0|     0|     0|     0|     0|      0|      0|      0|      0|      0|      0|      0|      0|      0|      0|      0|      0|      0|      0|      0|      0|      0|      0|      0|      2|     2|     2|     2|     2|     3|     3|     3|     3|     4|      6|      9|      9|     14|     17|     17|     28|     31|     35|     52|     64|     90|    120|    120|\n",
            "|            Tasmania|     Australia|-41.4545| 145.9707|      0|      0|      0|      0|      0|      0|      0|      0|      0|      0|     0|     0|     0|     0|     0|     0|     0|     0|     0|      0|      0|      0|      0|      0|      0|      0|      0|      0|      0|      0|      0|      0|      0|      0|      0|      0|      0|      0|      0|     0|     1|     1|     1|     1|     1|     1|     2|     2|      2|      3|      3|      5|      5|      6|      7|      7|     10|     10|     10|     16|     22|     22|\n",
            "|  Northern Territory|     Australia|-12.4634| 130.8456|      0|      0|      0|      0|      0|      0|      0|      0|      0|      0|     0|     0|     0|     0|     0|     0|     0|     0|     0|      0|      0|      0|      0|      0|      0|      0|      0|      0|      0|      0|      0|      0|      0|      0|      0|      0|      0|      0|      0|     0|     0|     0|     1|     1|     0|     0|     0|     0|      1|      1|      1|      1|      1|      1|      1|      1|      1|      1|      3|      3|      3|      3|\n",
            "|             Ontario|        Canada| 51.2538| -85.3232|      0|      0|      0|      0|      1|      1|      1|      1|      1|      3|     3|     3|     3|     3|     3|     3|     3|     3|     3|      3|      3|      3|      3|      3|      3|      3|      3|      3|      3|      3|      3|      3|      3|      4|      4|      4|      6|      6|     11|    15|    18|    20|    20|    22|    25|    28|    29|    34|     36|     41|     42|     74|     79|    104|    177|    185|    221|    257|    308|    377|    425|    425|\n",
            "+--------------------+--------------+--------+---------+-------+-------+-------+-------+-------+-------+-------+-------+-------+-------+------+------+------+------+------+------+------+------+------+-------+-------+-------+-------+-------+-------+-------+-------+-------+-------+-------+-------+-------+-------+-------+-------+-------+-------+-------+-------+------+------+------+------+------+------+------+------+------+-------+-------+-------+-------+-------+-------+-------+-------+-------+-------+-------+-------+-------+-------+\n",
            "only showing top 10 rows\n",
            "\n"
          ],
          "name": "stdout"
        }
      ]
    },
    {
      "cell_type": "markdown",
      "metadata": {
        "id": "gJVC4g3eBrw-"
      },
      "source": [
        "**Filter by country Australia**"
      ]
    },
    {
      "cell_type": "code",
      "metadata": {
        "id": "mH0226A-lCnK",
        "colab": {
          "base_uri": "https://localhost:8080/",
          "height": 275
        },
        "outputId": "1f2d18ba-b385-4990-c828-b550500ad855"
      },
      "source": [
        "#Filter by Australia\n",
        "covid_aus_data= covidData.filter(col(\"Country/Region\")==\"Australia\")\n",
        "covid_aus_data.show(10)"
      ],
      "execution_count": null,
      "outputs": [
        {
          "output_type": "stream",
          "text": [
            "+--------------------+--------------+--------+--------+-------+-------+-------+-------+-------+-------+-------+-------+-------+-------+------+------+------+------+------+------+------+------+------+-------+-------+-------+-------+-------+-------+-------+-------+-------+-------+-------+-------+-------+-------+-------+-------+-------+-------+-------+-------+------+------+------+------+------+------+------+------+------+-------+-------+-------+-------+-------+-------+-------+-------+-------+-------+-------+-------+-------+-------+\n",
            "|      Province/State|Country/Region|     Lat|    Long|1/22/20|1/23/20|1/24/20|1/25/20|1/26/20|1/27/20|1/28/20|1/29/20|1/30/20|1/31/20|2/1/20|2/2/20|2/3/20|2/4/20|2/5/20|2/6/20|2/7/20|2/8/20|2/9/20|2/10/20|2/11/20|2/12/20|2/13/20|2/14/20|2/15/20|2/16/20|2/17/20|2/18/20|2/19/20|2/20/20|2/21/20|2/22/20|2/23/20|2/24/20|2/25/20|2/26/20|2/27/20|2/28/20|2/29/20|3/1/20|3/2/20|3/3/20|3/4/20|3/5/20|3/6/20|3/7/20|3/8/20|3/9/20|3/10/20|3/11/20|3/12/20|3/13/20|3/14/20|3/15/20|3/16/20|3/17/20|3/18/20|3/19/20|3/20/20|3/21/20|3/22/20|3/23/20|\n",
            "+--------------------+--------------+--------+--------+-------+-------+-------+-------+-------+-------+-------+-------+-------+-------+------+------+------+------+------+------+------+------+------+-------+-------+-------+-------+-------+-------+-------+-------+-------+-------+-------+-------+-------+-------+-------+-------+-------+-------+-------+-------+------+------+------+------+------+------+------+------+------+-------+-------+-------+-------+-------+-------+-------+-------+-------+-------+-------+-------+-------+-------+\n",
            "|     New South Wales|     Australia|-33.8688|151.2093|      0|      0|      0|      0|      3|      4|      4|      4|      4|      4|     4|     4|     4|     4|     4|     4|     4|     4|     4|      4|      4|      4|      4|      4|      4|      4|      4|      4|      4|      4|      4|      4|      4|      4|      4|      4|      4|      4|      4|     6|     6|    13|    22|    22|    26|    28|    38|    48|     55|     65|     65|     92|    112|    134|    171|    210|    267|    307|    353|    436|    533|    533|\n",
            "|            Victoria|     Australia|-37.8136|144.9631|      0|      0|      0|      0|      1|      1|      1|      1|      2|      3|     4|     4|     4|     4|     4|     4|     4|     4|     4|      4|      4|      4|      4|      4|      4|      4|      4|      4|      4|      4|      4|      4|      4|      4|      4|      4|      4|      4|      7|     7|     9|     9|    10|    10|    10|    11|    11|    15|     18|     21|     21|     36|     49|     57|     71|     94|    121|    121|    121|    229|    296|    296|\n",
            "|          Queensland|     Australia|-28.0167|   153.4|      0|      0|      0|      0|      0|      0|      0|      1|      3|      2|     3|     2|     2|     3|     3|     4|     5|     5|     5|      5|      5|      5|      5|      5|      5|      5|      5|      5|      5|      5|      5|      5|      5|      5|      5|      5|      5|      5|      9|     9|     9|    11|    11|    13|    13|    13|    15|    15|     18|     20|     20|     35|     46|     61|     68|     78|     94|    144|    184|    221|    221|    221|\n",
            "|     South Australia|     Australia|-34.9285|138.6007|      0|      0|      0|      0|      0|      0|      0|      0|      0|      0|     1|     2|     2|     2|     2|     2|     2|     2|     2|      2|      2|      2|      2|      2|      2|      2|      2|      2|      2|      2|      2|      2|      2|      2|      2|      2|      2|      2|      3|     3|     3|     3|     5|     5|     7|     7|     7|     7|      7|      9|      9|     16|     19|     20|     29|     29|     37|     42|     50|     67|    100|    100|\n",
            "|From Diamond Prin...|     Australia| 35.4437| 139.638|      0|      0|      0|      0|      0|      0|      0|      0|      0|      0|     0|     0|     0|     0|     0|     0|     0|     0|     0|      0|      0|      0|      0|      0|      0|      0|      0|      0|      0|      0|      4|      7|      7|      7|      7|      7|      8|      8|      0|     0|     0|     0|     0|     0|     0|     0|     0|     0|      0|      0|      0|      0|      0|      0|      0|      0|      0|      0|      0|      0|      0|      0|\n",
            "|   Western Australia|     Australia|-31.9505|115.8605|      0|      0|      0|      0|      0|      0|      0|      0|      0|      0|     0|     0|     0|     0|     0|     0|     0|     0|     0|      0|      0|      0|      0|      0|      0|      0|      0|      0|      0|      0|      0|      0|      0|      0|      0|      0|      0|      0|      2|     2|     2|     2|     2|     3|     3|     3|     3|     4|      6|      9|      9|     14|     17|     17|     28|     31|     35|     52|     64|     90|    120|    120|\n",
            "|            Tasmania|     Australia|-41.4545|145.9707|      0|      0|      0|      0|      0|      0|      0|      0|      0|      0|     0|     0|     0|     0|     0|     0|     0|     0|     0|      0|      0|      0|      0|      0|      0|      0|      0|      0|      0|      0|      0|      0|      0|      0|      0|      0|      0|      0|      0|     0|     1|     1|     1|     1|     1|     1|     2|     2|      2|      3|      3|      5|      5|      6|      7|      7|     10|     10|     10|     16|     22|     22|\n",
            "|  Northern Territory|     Australia|-12.4634|130.8456|      0|      0|      0|      0|      0|      0|      0|      0|      0|      0|     0|     0|     0|     0|     0|     0|     0|     0|     0|      0|      0|      0|      0|      0|      0|      0|      0|      0|      0|      0|      0|      0|      0|      0|      0|      0|      0|      0|      0|     0|     0|     0|     1|     1|     0|     0|     0|     0|      1|      1|      1|      1|      1|      1|      1|      1|      1|      1|      3|      3|      3|      3|\n",
            "|Australian Capita...|     Australia|-35.4735|149.0124|      0|      0|      0|      0|      0|      0|      0|      0|      0|      0|     0|     0|     0|     0|     0|     0|     0|     0|     0|      0|      0|      0|      0|      0|      0|      0|      0|      0|      0|      0|      0|      0|      0|      0|      0|      0|      0|      0|      0|     0|     0|     0|     0|     0|     0|     0|     0|     0|      0|      0|      0|      1|      1|      1|      2|      2|      3|      4|      6|      9|     19|     19|\n",
            "+--------------------+--------------+--------+--------+-------+-------+-------+-------+-------+-------+-------+-------+-------+-------+------+------+------+------+------+------+------+------+------+-------+-------+-------+-------+-------+-------+-------+-------+-------+-------+-------+-------+-------+-------+-------+-------+-------+-------+-------+-------+------+------+------+------+------+------+------+------+------+-------+-------+-------+-------+-------+-------+-------+-------+-------+-------+-------+-------+-------+-------+\n",
            "\n"
          ],
          "name": "stdout"
        }
      ]
    },
    {
      "cell_type": "markdown",
      "metadata": {
        "id": "kxhyC69xC--M"
      },
      "source": [
        "**Merging all states**"
      ]
    },
    {
      "cell_type": "code",
      "metadata": {
        "id": "LJ4-EW6mZqk8",
        "colab": {
          "base_uri": "https://localhost:8080/",
          "height": 139
        },
        "outputId": "05a714e1-f545-4aac-99e8-fa6033d3811e"
      },
      "source": [
        "exprs = {x: \"sum\" for x in covid_aus_data.columns if x not in ['Country/Region','Province/State','Lat','Long','1/22/20','1/23/20','1/24/20','1/25/20','1/26/20','1/27/20','1/28/20','1/29/20','1/30/20','1/31/20']}\n",
        "covid_aus_data = covid_aus_data.groupBy(\"Country/Region\").agg(exprs)\n",
        "covid_aus_data.show()"
      ],
      "execution_count": null,
      "outputs": [
        {
          "output_type": "stream",
          "text": [
            "+--------------+------------+-----------+-----------+-----------+-----------+------------+------------+------------+------------+-----------+-----------+------------+------------+-----------+------------+-----------+------------+------------+------------+------------+-----------+------------+------------+------------+-----------+------------+------------+------------+------------+------------+------------+------------+-----------+-----------+------------+-----------+------------+-----------+------------+-----------+------------+-----------+------------+-----------+------------+------------+-----------+------------+------------+------------+------------+------------+\n",
            "|Country/Region|sum(3/19/20)|sum(3/9/20)|sum(3/7/20)|sum(3/2/20)|sum(2/2/20)|sum(3/23/20)|sum(2/24/20)|sum(2/22/20)|sum(2/26/20)|sum(2/9/20)|sum(2/3/20)|sum(3/18/20)|sum(3/21/20)|sum(3/1/20)|sum(2/14/20)|sum(2/8/20)|sum(2/16/20)|sum(3/17/20)|sum(2/15/20)|sum(2/13/20)|sum(3/6/20)|sum(3/15/20)|sum(3/20/20)|sum(2/23/20)|sum(3/3/20)|sum(3/13/20)|sum(2/20/20)|sum(3/12/20)|sum(2/17/20)|sum(2/27/20)|sum(2/25/20)|sum(3/16/20)|sum(3/5/20)|sum(2/6/20)|sum(2/12/20)|sum(3/4/20)|sum(3/14/20)|sum(2/7/20)|sum(3/11/20)|sum(2/5/20)|sum(2/29/20)|sum(2/4/20)|sum(2/11/20)|sum(2/1/20)|sum(2/18/20)|sum(2/21/20)|sum(3/8/20)|sum(2/19/20)|sum(2/10/20)|sum(2/28/20)|sum(3/22/20)|sum(3/10/20)|\n",
            "+--------------+------------+-----------+-----------+-----------+-----------+------------+------------+------------+------------+-----------+-----------+------------+------------+-----------+------------+-----------+------------+------------+------------+------------+-----------+------------+------------+------------+-----------+------------+------------+------------+------------+------------+------------+------------+-----------+-----------+------------+-----------+------------+-----------+------------+-----------+------------+-----------+------------+-----------+------------+------------+-----------+------------+------------+------------+------------+------------+\n",
            "|     Australia|         681|         91|         63|         30|         12|        1314|          22|          22|          22|         15|         12|         568|        1071|         27|          15|         15|          15|         452|          15|          15|         60|         297|         791|          22|         39|         200|          15|         128|          15|          23|          22|         377|         55|         14|          15|         52|         250|         15|         128|         13|          25|         13|          15|         12|          15|          19|         76|          15|          15|          23|        1314|         107|\n",
            "+--------------+------------+-----------+-----------+-----------+-----------+------------+------------+------------+------------+-----------+-----------+------------+------------+-----------+------------+-----------+------------+------------+------------+------------+-----------+------------+------------+------------+-----------+------------+------------+------------+------------+------------+------------+------------+-----------+-----------+------------+-----------+------------+-----------+------------+-----------+------------+-----------+------------+-----------+------------+------------+-----------+------------+------------+------------+------------+------------+\n",
            "\n"
          ],
          "name": "stdout"
        }
      ]
    },
    {
      "cell_type": "markdown",
      "metadata": {
        "id": "7OCDilWQDRpJ"
      },
      "source": [
        "**Renaming column dates to their original dates**"
      ]
    },
    {
      "cell_type": "code",
      "metadata": {
        "id": "eFLEcqcBwEN3",
        "colab": {
          "base_uri": "https://localhost:8080/",
          "height": 139
        },
        "outputId": "0d703e0c-062f-4c86-bd9f-1830a05816f6"
      },
      "source": [
        "def clean_df_names(df):\n",
        "    l = df.columns\n",
        "    cols = [c.replace('sum(','').replace(')','').strip() for c in l]\n",
        "    return df.toDF(*cols)\n",
        "\n",
        "data = clean_df_names(covid_aus_data)\n",
        "data = data.drop('Country/Region')\n",
        "data = data.select(sorted(data.columns))\n",
        "data.show()"
      ],
      "execution_count": null,
      "outputs": [
        {
          "output_type": "stream",
          "text": [
            "+------+-------+-------+-------+-------+-------+-------+-------+-------+-------+-------+------+-------+-------+-------+-------+-------+-------+-------+-------+-------+-------+------+------+------+------+------+------+------+------+-------+-------+-------+-------+-------+-------+-------+-------+-------+-------+------+-------+-------+-------+-------+------+------+------+------+------+------+------+\n",
            "|2/1/20|2/10/20|2/11/20|2/12/20|2/13/20|2/14/20|2/15/20|2/16/20|2/17/20|2/18/20|2/19/20|2/2/20|2/20/20|2/21/20|2/22/20|2/23/20|2/24/20|2/25/20|2/26/20|2/27/20|2/28/20|2/29/20|2/3/20|2/4/20|2/5/20|2/6/20|2/7/20|2/8/20|2/9/20|3/1/20|3/10/20|3/11/20|3/12/20|3/13/20|3/14/20|3/15/20|3/16/20|3/17/20|3/18/20|3/19/20|3/2/20|3/20/20|3/21/20|3/22/20|3/23/20|3/3/20|3/4/20|3/5/20|3/6/20|3/7/20|3/8/20|3/9/20|\n",
            "+------+-------+-------+-------+-------+-------+-------+-------+-------+-------+-------+------+-------+-------+-------+-------+-------+-------+-------+-------+-------+-------+------+------+------+------+------+------+------+------+-------+-------+-------+-------+-------+-------+-------+-------+-------+-------+------+-------+-------+-------+-------+------+------+------+------+------+------+------+\n",
            "|    12|     15|     15|     15|     15|     15|     15|     15|     15|     15|     15|    12|     15|     19|     22|     22|     22|     22|     22|     23|     23|     25|    12|    13|    13|    14|    15|    15|    15|    27|    107|    128|    128|    200|    250|    297|    377|    452|    568|    681|    30|    791|   1071|   1314|   1314|    39|    52|    55|    60|    63|    76|    91|\n",
            "+------+-------+-------+-------+-------+-------+-------+-------+-------+-------+-------+------+-------+-------+-------+-------+-------+-------+-------+-------+-------+-------+------+------+------+------+------+------+------+------+-------+-------+-------+-------+-------+-------+-------+-------+-------+-------+------+-------+-------+-------+-------+------+------+------+------+------+------+------+\n",
            "\n"
          ],
          "name": "stdout"
        }
      ]
    },
    {
      "cell_type": "markdown",
      "metadata": {
        "id": "zm3MHYoZIA-z"
      },
      "source": [
        "**Converting columns to rows with index and sorting**\n",
        "\n"
      ]
    },
    {
      "cell_type": "code",
      "metadata": {
        "id": "6fUGKnV2XkVb",
        "colab": {
          "base_uri": "https://localhost:8080/",
          "height": 459
        },
        "outputId": "0f6ecb2a-6094-4adf-ebd5-e7f36430760d"
      },
      "source": [
        "def to_long(df):\n",
        "\n",
        "    # Filter dtypes and split into column names and type description\n",
        "    cols, dtypes = zip(*((c, t) for (c, t) in df.dtypes))\n",
        "\n",
        "    # Create and explode an array of (column_name, column_value) structs\n",
        "    kvs = explode(array([\n",
        "      struct(lit(c).alias(\"key\"), col(c).alias(\"label\")) for c in cols\n",
        "    ])).alias(\"kvs\")\n",
        "\n",
        "    return df.select([kvs]).select([\"kvs.key\", \"kvs.label\"])\n",
        "\n",
        "data_temp = to_long(data)\n",
        "data_temp.show()"
      ],
      "execution_count": null,
      "outputs": [
        {
          "output_type": "stream",
          "text": [
            "+-------+-----+\n",
            "|    key|label|\n",
            "+-------+-----+\n",
            "| 2/1/20|   12|\n",
            "|2/10/20|   15|\n",
            "|2/11/20|   15|\n",
            "|2/12/20|   15|\n",
            "|2/13/20|   15|\n",
            "|2/14/20|   15|\n",
            "|2/15/20|   15|\n",
            "|2/16/20|   15|\n",
            "|2/17/20|   15|\n",
            "|2/18/20|   15|\n",
            "|2/19/20|   15|\n",
            "| 2/2/20|   12|\n",
            "|2/20/20|   15|\n",
            "|2/21/20|   19|\n",
            "|2/22/20|   22|\n",
            "|2/23/20|   22|\n",
            "|2/24/20|   22|\n",
            "|2/25/20|   22|\n",
            "|2/26/20|   22|\n",
            "|2/27/20|   23|\n",
            "+-------+-----+\n",
            "only showing top 20 rows\n",
            "\n"
          ],
          "name": "stdout"
        }
      ]
    },
    {
      "cell_type": "code",
      "metadata": {
        "id": "WeZvsoeiTYIw",
        "colab": {
          "base_uri": "https://localhost:8080/",
          "height": 527
        },
        "outputId": "6f70f3a0-009f-410f-f0e9-001c6c11bee9"
      },
      "source": [
        "#creating a temp view and converting date to date format\n",
        "data_temp.createOrReplaceTempView(\"infected_Data\")\n",
        "data_con = spark.sql(\"\"\"\n",
        "  SELECT TO_DATE(CAST(UNIX_TIMESTAMP(key, 'MM/dd/yy') AS TIMESTAMP)) AS Formatted_Date,\n",
        "  label from infected_Data  ORDER BY Formatted_Date\"\"\"\n",
        ")\n",
        "data_con.printSchema()\n",
        "\n",
        "#adding index column (from 1 to len(data_con))\n",
        "window = Window.orderBy(psf.col('Formatted_Date'))\n",
        "data_final = data_con.withColumn('val', psf.row_number().over(window))\n",
        "\n",
        "data_arima = data_final.toPandas()\n",
        "data_final.show()"
      ],
      "execution_count": null,
      "outputs": [
        {
          "output_type": "stream",
          "text": [
            "root\n",
            " |-- Formatted_Date: date (nullable = true)\n",
            " |-- label: long (nullable = true)\n",
            "\n",
            "+--------------+-----+---+\n",
            "|Formatted_Date|label|val|\n",
            "+--------------+-----+---+\n",
            "|    2020-02-01|   12|  1|\n",
            "|    2020-02-02|   12|  2|\n",
            "|    2020-02-03|   12|  3|\n",
            "|    2020-02-04|   13|  4|\n",
            "|    2020-02-05|   13|  5|\n",
            "|    2020-02-06|   14|  6|\n",
            "|    2020-02-07|   15|  7|\n",
            "|    2020-02-08|   15|  8|\n",
            "|    2020-02-09|   15|  9|\n",
            "|    2020-02-10|   15| 10|\n",
            "|    2020-02-11|   15| 11|\n",
            "|    2020-02-12|   15| 12|\n",
            "|    2020-02-13|   15| 13|\n",
            "|    2020-02-14|   15| 14|\n",
            "|    2020-02-15|   15| 15|\n",
            "|    2020-02-16|   15| 16|\n",
            "|    2020-02-17|   15| 17|\n",
            "|    2020-02-18|   15| 18|\n",
            "|    2020-02-19|   15| 19|\n",
            "|    2020-02-20|   15| 20|\n",
            "+--------------+-----+---+\n",
            "only showing top 20 rows\n",
            "\n"
          ],
          "name": "stdout"
        }
      ]
    },
    {
      "cell_type": "code",
      "metadata": {
        "id": "SSgCfYqueZai",
        "colab": {
          "base_uri": "https://localhost:8080/",
          "height": 383
        },
        "outputId": "9a65ac5c-ff5d-4a03-dbec-82904debddaa"
      },
      "source": [
        "import matplotlib.pyplot as plt\n",
        "\n",
        "df = data_final.toPandas()\n",
        "\n",
        "# Draw Plot\n",
        "def plot_df(df, x, y, title=\"\", xlabel='Date', ylabel='Covid Case', dpi=80):\n",
        "    plt.figure(figsize=(16,5), dpi=dpi)\n",
        "    plt.plot(x, y, color='tab:red')\n",
        "    plt.gca().set(title=title, xlabel=xlabel, ylabel=ylabel)\n",
        "    plt.show()\n",
        "\n",
        "plot_df(df, x=df.Formatted_Date, y=df.label, title='Covid Cases Australia')    \n"
      ],
      "execution_count": null,
      "outputs": [
        {
          "output_type": "display_data",
          "data": {
            "image/png": "[encoded data removed]",
            "text/plain": [
              "<Figure size 1280x400 with 1 Axes>"
            ]
          },
          "metadata": {
            "tags": [],
            "needs_background": "light"
          }
        }
      ]
    },
    {
      "cell_type": "markdown",
      "metadata": {
        "id": "eX0EtaqHjbnV"
      },
      "source": [
        "**Removing 22nd and 23rd march data from dataset**"
      ]
    },
    {
      "cell_type": "code",
      "metadata": {
        "id": "B8zjWNEzeht_",
        "colab": {
          "base_uri": "https://localhost:8080/",
          "height": 578
        },
        "outputId": "14863770-f558-4922-cc68-94b9f6c7b8ad"
      },
      "source": [
        "#creating data frame with 22nd and 23rd march data.\n",
        "evaluation_data = data_final.where(data_final.Formatted_Date.isin('2020-03-22', '2020-03-23'))\n",
        "evaluation_data.show()\n",
        "\n",
        "#Removing 22nd and 23rd march data from data_final.\n",
        "data_final = data_final.where(~data_final.Formatted_Date.isin('2020-03-22', '2020-03-23'))\n",
        "data_final.show()"
      ],
      "execution_count": null,
      "outputs": [
        {
          "output_type": "stream",
          "text": [
            "+--------------+-----+---+\n",
            "|Formatted_Date|label|val|\n",
            "+--------------+-----+---+\n",
            "|    2020-03-22| 1314| 51|\n",
            "|    2020-03-23| 1314| 52|\n",
            "+--------------+-----+---+\n",
            "\n",
            "+--------------+-----+---+\n",
            "|Formatted_Date|label|val|\n",
            "+--------------+-----+---+\n",
            "|    2020-02-01|   12|  1|\n",
            "|    2020-02-02|   12|  2|\n",
            "|    2020-02-03|   12|  3|\n",
            "|    2020-02-04|   13|  4|\n",
            "|    2020-02-05|   13|  5|\n",
            "|    2020-02-06|   14|  6|\n",
            "|    2020-02-07|   15|  7|\n",
            "|    2020-02-08|   15|  8|\n",
            "|    2020-02-09|   15|  9|\n",
            "|    2020-02-10|   15| 10|\n",
            "|    2020-02-11|   15| 11|\n",
            "|    2020-02-12|   15| 12|\n",
            "|    2020-02-13|   15| 13|\n",
            "|    2020-02-14|   15| 14|\n",
            "|    2020-02-15|   15| 15|\n",
            "|    2020-02-16|   15| 16|\n",
            "|    2020-02-17|   15| 17|\n",
            "|    2020-02-18|   15| 18|\n",
            "|    2020-02-19|   15| 19|\n",
            "|    2020-02-20|   15| 20|\n",
            "+--------------+-----+---+\n",
            "only showing top 20 rows\n",
            "\n"
          ],
          "name": "stdout"
        }
      ]
    },
    {
      "cell_type": "code",
      "metadata": {
        "id": "3Ykm1xzcLKsw",
        "colab": {
          "base_uri": "https://localhost:8080/",
          "height": 459
        },
        "outputId": "fffdb006-e34c-4683-aa38-0df436229a24"
      },
      "source": [
        "#creating a features column with input (val variable) for the regression model\n",
        "vectorAssembler = VectorAssembler(inputCols = ['val'], outputCol = 'features')\n",
        "#vectorAssembler = VectorAssembler(inputCols = ['label'], outputCol = 'features')\n",
        "vdata_final = vectorAssembler.transform(data_final)\n",
        "#vdata_final = vdata_final.selectExpr(\"val as label\", \"features as features\")\n",
        "vdata_final.show()"
      ],
      "execution_count": null,
      "outputs": [
        {
          "output_type": "stream",
          "text": [
            "+--------------+-----+---+--------+\n",
            "|Formatted_Date|label|val|features|\n",
            "+--------------+-----+---+--------+\n",
            "|    2020-02-01|   12|  1|   [1.0]|\n",
            "|    2020-02-02|   12|  2|   [2.0]|\n",
            "|    2020-02-03|   12|  3|   [3.0]|\n",
            "|    2020-02-04|   13|  4|   [4.0]|\n",
            "|    2020-02-05|   13|  5|   [5.0]|\n",
            "|    2020-02-06|   14|  6|   [6.0]|\n",
            "|    2020-02-07|   15|  7|   [7.0]|\n",
            "|    2020-02-08|   15|  8|   [8.0]|\n",
            "|    2020-02-09|   15|  9|   [9.0]|\n",
            "|    2020-02-10|   15| 10|  [10.0]|\n",
            "|    2020-02-11|   15| 11|  [11.0]|\n",
            "|    2020-02-12|   15| 12|  [12.0]|\n",
            "|    2020-02-13|   15| 13|  [13.0]|\n",
            "|    2020-02-14|   15| 14|  [14.0]|\n",
            "|    2020-02-15|   15| 15|  [15.0]|\n",
            "|    2020-02-16|   15| 16|  [16.0]|\n",
            "|    2020-02-17|   15| 17|  [17.0]|\n",
            "|    2020-02-18|   15| 18|  [18.0]|\n",
            "|    2020-02-19|   15| 19|  [19.0]|\n",
            "|    2020-02-20|   15| 20|  [20.0]|\n",
            "+--------------+-----+---+--------+\n",
            "only showing top 20 rows\n",
            "\n"
          ],
          "name": "stdout"
        }
      ]
    },
    {
      "cell_type": "markdown",
      "metadata": {
        "id": "Qaxc0KfFVqZa"
      },
      "source": [
        "## Model 1:- Linear regression\n"
      ]
    },
    {
      "cell_type": "code",
      "metadata": {
        "id": "1vgCz3K-LUkL",
        "colab": {
          "base_uri": "https://localhost:8080/",
          "height": 105
        },
        "outputId": "52269cc2-6e4c-4c8d-8a63-9e6f3dd34e75"
      },
      "source": [
        "#finding the best parameters and choosing the model with these parameters\n",
        "\n",
        "evaluator = RegressionEvaluator(metricName=\"mae\")\n",
        "training = vdata_final.select('label', 'features') #choosing training data\n",
        "lr = LinearRegression()\n",
        "grid = ParamGridBuilder().addGrid(lr.maxIter, [50, 100, 200, 300, 400, 500]) \\\n",
        "                                .addGrid(lr.regParam, [0, 0.01, 0.05, 0.1, 0.5, 1]) \\\n",
        "                                .addGrid(lr.elasticNetParam, [0.0, 0.1, 0.5, 0.8, 1]) \\\n",
        "                                .build()\n",
        "lr_cv = CrossValidator(estimator=lr, estimatorParamMaps=grid, \\\n",
        "                        evaluator=evaluator, numFolds=3) #cross validator to choose the best parameters for the model\n",
        "lrModel = lr_cv.fit(training) #train the model\n",
        "bestModel = lrModel.bestModel #choose the best model\n",
        "print('Best Param (regParam): ', bestModel._java_obj.getRegParam())\n",
        "print('Best Param (MaxIter): ', bestModel._java_obj.getMaxIter())\n",
        "print('Best Param (elasticNetParam): ', bestModel._java_obj.getElasticNetParam())\n",
        "trainingSummary = bestModel.summary\n",
        "print(\"RMSE: %f\" % trainingSummary.rootMeanSquaredError) #rmse of training data\n",
        "print(\"r2: %f\" % trainingSummary.r2) #how much our model explains"
      ],
      "execution_count": null,
      "outputs": [
        {
          "output_type": "stream",
          "text": [
            "Best Param (regParam):  1.0\n",
            "Best Param (MaxIter):  50\n",
            "Best Param (elasticNetParam):  1.0\n",
            "RMSE: 163.474403\n",
            "r2: 0.455187\n"
          ],
          "name": "stdout"
        }
      ]
    },
    {
      "cell_type": "markdown",
      "metadata": {
        "id": "5WezPrkkVya9"
      },
      "source": [
        "###Prediction for date 22/03 and 23/03"
      ]
    },
    {
      "cell_type": "code",
      "metadata": {
        "id": "gdf4TWDGqXel",
        "colab": {
          "base_uri": "https://localhost:8080/",
          "height": 158
        },
        "outputId": "604e69bb-ff06-4212-f3d2-1a648a7d2cb1"
      },
      "source": [
        "test_data = vectorAssembler.transform(evaluation_data)\n",
        "predictions = bestModel.transform(test_data)\n",
        "predictions.select(\"prediction\",\"features\", \"label\").show()\n",
        "\n",
        "evaluator = RegressionEvaluator(predictionCol=\"prediction\", \\\n",
        "                 labelCol=\"label\",metricName=\"rmse\")\n",
        "print(\"RMSE on test data = %g\" % evaluator.evaluate(predictions))"
      ],
      "execution_count": null,
      "outputs": [
        {
          "output_type": "stream",
          "text": [
            "+------------------+--------+-----+\n",
            "|        prediction|features|label|\n",
            "+------------------+--------+-----+\n",
            "| 382.8582608543268|  [51.0]| 1314|\n",
            "|393.14368284861416|  [52.0]| 1314|\n",
            "+------------------+--------+-----+\n",
            "\n",
            "RMSE on test data = 926.013\n"
          ],
          "name": "stdout"
        }
      ]
    },
    {
      "cell_type": "markdown",
      "metadata": {
        "id": "u1u5Kh6vTvLy"
      },
      "source": [
        "## Model 2:-Regression with log transformation\n",
        "\n",
        "The dataset of Covid 19 epidemic has exponential characteristic. \n",
        "The reason to use Exponential Growth for modeling the Coronavirus outbreak is that epidemiologists have studied those types of outbreaks and it is well known that the first period of an epidemic follows Exponential Growth.\n",
        "\n",
        "source : https://towardsdatascience.com/modeling-exponential-growth-49a2b6f22e1f"
      ]
    },
    {
      "cell_type": "code",
      "metadata": {
        "id": "LPakwgv3R1p6",
        "colab": {
          "base_uri": "https://localhost:8080/",
          "height": 105
        },
        "outputId": "da6724fd-8a2f-4f28-f908-54668987679e"
      },
      "source": [
        "from pyspark.sql.functions import log\n",
        "log_data = vdata_final.withColumn(\"label\", log(col(\"label\")))\n",
        "\n",
        "log_training = log_data.select(['features', 'label'])\n",
        "\n",
        "evaluator = RegressionEvaluator(metricName=\"mae\")\n",
        "lr = LinearRegression()\n",
        "grid = ParamGridBuilder().addGrid(lr.maxIter, [50, 100, 200, 300, 400, 500]) \\\n",
        "                                .addGrid(lr.regParam, [0, 0.01, 0.05, 0.1, 0.5, 1]) \\\n",
        "                                .addGrid(lr.elasticNetParam, [0.0, 0.1, 0.5, 0.8, 1]) \\\n",
        "                                .build()\n",
        "lr_cv = CrossValidator(estimator=lr, estimatorParamMaps=grid, \\\n",
        "                        evaluator=evaluator, numFolds=3) #cross validator to choose the best parameters for the model\n",
        "lrModel = lr_cv.fit(log_training) #train the model\n",
        "bestModel = lrModel.bestModel #choose the best model\n",
        "print('Best Param (regParam): ', bestModel._java_obj.getRegParam())\n",
        "print('Best Param (MaxIter): ', bestModel._java_obj.getMaxIter())\n",
        "print('Best Param (elasticNetParam): ', bestModel._java_obj.getElasticNetParam())\n",
        "trainingSummary = bestModel.summary\n",
        "print(\"RMSE: %f\" % trainingSummary.rootMeanSquaredError) #rmse of training data\n",
        "print(\"r2: %f\" % trainingSummary.r2) #how much our model explains"
      ],
      "execution_count": null,
      "outputs": [
        {
          "output_type": "stream",
          "text": [
            "Best Param (regParam):  0.1\n",
            "Best Param (MaxIter):  50\n",
            "Best Param (elasticNetParam):  1.0\n",
            "RMSE: 0.559567\n",
            "r2: 0.817510\n"
          ],
          "name": "stdout"
        }
      ]
    },
    {
      "cell_type": "markdown",
      "metadata": {
        "id": "Gg9slulqXhgQ"
      },
      "source": [
        "###Prediction of 22/03 and 23/03 after log transformation"
      ]
    },
    {
      "cell_type": "code",
      "metadata": {
        "id": "y_aeqhHeVATd",
        "colab": {
          "base_uri": "https://localhost:8080/",
          "height": 158
        },
        "outputId": "c4408c23-3c9a-46f5-8b67-cb2c8692a504"
      },
      "source": [
        "\n",
        "test_data = vectorAssembler.transform(evaluation_data.withColumn(\"label\", log(col(\"label\"))))\n",
        "predictions = bestModel.transform(test_data)\n",
        "predictions.select(\"prediction\",\"features\", \"label\").show()\n",
        "\n",
        "evaluator = RegressionEvaluator(predictionCol=\"prediction\", \\\n",
        "                 labelCol=\"label\",metricName=\"rmse\")\n",
        "print(\"RMSE on test data = %g\" % evaluator.evaluate(predictions))\n",
        "\n",
        "# evaluator = RegressionEvaluator(predictionCol=\"prediction\", \\\n",
        "#                  labelCol=\"label\",metricName=\"rmse\")\n",
        "# print(\"RMSE on test data = %g\" % evaluator.evaluate(predictions))"
      ],
      "execution_count": null,
      "outputs": [
        {
          "output_type": "stream",
          "text": [
            "+-----------------+--------+------------------+\n",
            "|       prediction|features|             label|\n",
            "+-----------------+--------+------------------+\n",
            "|5.641050012349593|  [51.0]|7.1808311990445555|\n",
            "|5.716482721727283|  [52.0]|7.1808311990445555|\n",
            "+-----------------+--------+------------------+\n",
            "\n",
            "RMSE on test data = 1.50254\n"
          ],
          "name": "stdout"
        }
      ]
    },
    {
      "cell_type": "markdown",
      "metadata": {
        "id": "9FcfYd38sBPf"
      },
      "source": [
        "## Model 3:-Logistic Regression\n"
      ]
    },
    {
      "cell_type": "code",
      "metadata": {
        "id": "pEm--E0wy25C",
        "colab": {
          "base_uri": "https://localhost:8080/",
          "height": 136
        },
        "outputId": "1cc04ad3-b5e8-46b1-94a4-4dae4fa072a9"
      },
      "source": [
        "#creating a features column with input (val variable) for the regression model\n",
        "vectorAssembler = VectorAssembler(inputCols = ['val'], outputCol = 'features')\n",
        "test_final = vectorAssembler.transform(evaluation_data)\n",
        "test_final.show()"
      ],
      "execution_count": null,
      "outputs": [
        {
          "output_type": "stream",
          "text": [
            "+--------------+-----+---+--------+\n",
            "|Formatted_Date|label|val|features|\n",
            "+--------------+-----+---+--------+\n",
            "|    2020-03-22| 1314| 51|  [51.0]|\n",
            "|    2020-03-23| 1314| 52|  [52.0]|\n",
            "+--------------+-----+---+--------+\n",
            "\n"
          ],
          "name": "stdout"
        }
      ]
    },
    {
      "cell_type": "code",
      "metadata": {
        "id": "3bBVpR9KrFbQ"
      },
      "source": [
        "from pyspark.ml.classification import LogisticRegression\n",
        "lr = LogisticRegression(featuresCol = 'features', labelCol = 'label', maxIter=100)\n",
        "lrModel = lr.fit(vdata_final)"
      ],
      "execution_count": null,
      "outputs": []
    },
    {
      "cell_type": "markdown",
      "metadata": {
        "id": "VxqWdjgLmPCF"
      },
      "source": [
        "Predictions"
      ]
    },
    {
      "cell_type": "code",
      "metadata": {
        "id": "h_MhbNv7sueP",
        "colab": {
          "base_uri": "https://localhost:8080/",
          "height": 136
        },
        "outputId": "652f7aa8-bf1b-42d0-bce2-2ff5bb11d2af"
      },
      "source": [
        "predictions = lrModel.transform(test_final)\n",
        "predictions.select(\"label\",\"prediction\").show()"
      ],
      "execution_count": null,
      "outputs": [
        {
          "output_type": "stream",
          "text": [
            "+-----+----------+\n",
            "|label|prediction|\n",
            "+-----+----------+\n",
            "| 1314|    1071.0|\n",
            "| 1314|    1071.0|\n",
            "+-----+----------+\n",
            "\n"
          ],
          "name": "stdout"
        }
      ]
    },
    {
      "cell_type": "markdown",
      "metadata": {
        "id": "rV3wOx9EmR6b"
      },
      "source": [
        "Evaluation"
      ]
    },
    {
      "cell_type": "code",
      "metadata": {
        "id": "T3rPATKvuEoT",
        "colab": {
          "base_uri": "https://localhost:8080/",
          "height": 34
        },
        "outputId": "084c9e62-fcbd-4956-8f94-12dad108a818"
      },
      "source": [
        "from pyspark.ml.evaluation import BinaryClassificationEvaluator\n",
        "\n",
        "evaluator = BinaryClassificationEvaluator(rawPredictionCol=\"rawPrediction\",labelCol=\"label\",metricName=\"areaUnderROC\")\n",
        "print(\"The area under ROC for test set is {}\".format(evaluator.evaluate(predictions)))\n",
        "\n",
        "\n"
      ],
      "execution_count": null,
      "outputs": [
        {
          "output_type": "stream",
          "text": [
            "The area under ROC for test set is 1.0\n"
          ],
          "name": "stdout"
        }
      ]
    },
    {
      "cell_type": "markdown",
      "metadata": {
        "id": "FVIWaucmZWIs"
      },
      "source": [
        "[link text](https://towardsdatascience.com/time-series-forecasting-arima-models-7f221e9eee06//) \n",
        "#Model 4:- ARIMA\n",
        "\n"
      ]
    },
    {
      "cell_type": "code",
      "metadata": {
        "id": "NAGfR4WOa3Xe"
      },
      "source": [
        "import pandas as pd\n",
        "import matplotlib.pyplot as plt\n",
        "%matplotlib inline\n",
        "import numpy as np\n",
        "from sklearn.metrics import mean_squared_error\n",
        "from statsmodels.graphics.tsaplots import plot_acf,plot_pacf\n",
        "from statsmodels.tsa.arima_model import ARIMA"
      ],
      "execution_count": null,
      "outputs": []
    },
    {
      "cell_type": "code",
      "metadata": {
        "id": "dgDfGNx94zvO"
      },
      "source": [
        "data_arima.drop(labels='val',axis=1,inplace=True)\n",
        "data_arima.set_index('Formatted_Date',inplace=True)"
      ],
      "execution_count": null,
      "outputs": []
    },
    {
      "cell_type": "code",
      "metadata": {
        "id": "22RllrN2cHgu"
      },
      "source": [
        "#ARIMA = Autoregressive (p) Integrated(d) Moving Average  (q)\n",
        "#( Autoregressive means that current value is correlated with the previous value, Moving Average is for smoothing part , noise removal)\n",
        "#Integrated means order of difference, our Time Series needs to be stationary to perform time series forecasting.\n",
        "# For Autoregressive and Moving average , we have a acf(auto correlation) and pacf(partial correlation) curves which is checks how well the current value\n",
        "# is correlated with the previous value\n"
      ],
      "execution_count": null,
      "outputs": []
    },
    {
      "cell_type": "code",
      "metadata": {
        "id": "uHFp7oJFcQGC",
        "colab": {
          "base_uri": "https://localhost:8080/",
          "height": 545
        },
        "outputId": "135302ce-3d6f-4058-d6b2-a6c4c455137d"
      },
      "source": [
        "plot_acf(data_arima)"
      ],
      "execution_count": null,
      "outputs": [
        {
          "output_type": "execute_result",
          "data": {
            "image/png": "[encoded data removed]",
            "text/plain": [
              "<Figure size 432x288 with 1 Axes>"
            ]
          },
          "metadata": {
            "tags": []
          },
          "execution_count": 32
        },
        {
          "output_type": "display_data",
          "data": {
            "image/png": "[encoded data removed]",
            "text/plain": [
              "<Figure size 432x288 with 1 Axes>"
            ]
          },
          "metadata": {
            "tags": [],
            "needs_background": "light"
          }
        }
      ]
    },
    {
      "cell_type": "code",
      "metadata": {
        "id": "FnUBMwbqcT3m",
        "colab": {
          "base_uri": "https://localhost:8080/",
          "height": 545
        },
        "outputId": "00af6f79-69df-4e73-9951-93b41678482f"
      },
      "source": [
        "plot_pacf(data_arima)"
      ],
      "execution_count": null,
      "outputs": [
        {
          "output_type": "execute_result",
          "data": {
            "image/png": "[encoded data removed]",
            "text/plain": [
              "<Figure size 432x288 with 1 Axes>"
            ]
          },
          "metadata": {
            "tags": []
          },
          "execution_count": 33
        },
        {
          "output_type": "display_data",
          "data": {
            "image/png": "[encoded data removed]",
            "text/plain": [
              "<Figure size 432x288 with 1 Axes>"
            ]
          },
          "metadata": {
            "tags": [],
            "needs_background": "light"
          }
        }
      ]
    },
    {
      "cell_type": "code",
      "metadata": {
        "id": "2D_M-ZVgccZK",
        "colab": {
          "base_uri": "https://localhost:8080/",
          "height": 34
        },
        "outputId": "03d55e08-1b60-4862-bc54-472d6d14c879"
      },
      "source": [
        "## Spliting the Dataset into Train and Test\n",
        "covid_train = data_arima[0:50].values.astype(np.float64)\n",
        "covid_test = data_arima[50:52].values.astype(np.float64)\n",
        "covid_train.size,covid_test.size"
      ],
      "execution_count": null,
      "outputs": [
        {
          "output_type": "execute_result",
          "data": {
            "text/plain": [
              "(50, 2)"
            ]
          },
          "metadata": {
            "tags": []
          },
          "execution_count": 49
        }
      ]
    },
    {
      "cell_type": "code",
      "metadata": {
        "id": "E-Eowa_ocjeY",
        "colab": {
          "base_uri": "https://localhost:8080/",
          "height": 51
        },
        "outputId": "199851ed-49e3-4882-95f1-64006c665b46"
      },
      "source": [
        "covid_test"
      ],
      "execution_count": null,
      "outputs": [
        {
          "output_type": "execute_result",
          "data": {
            "text/plain": [
              "array([[1314.],\n",
              "       [1314.]])"
            ]
          },
          "metadata": {
            "tags": []
          },
          "execution_count": 36
        }
      ]
    },
    {
      "cell_type": "code",
      "metadata": {
        "id": "3oksiv2ecrf2",
        "colab": {
          "base_uri": "https://localhost:8080/",
          "height": 408
        },
        "outputId": "92c15fd8-29e6-476d-c235-1b70112d8c6b"
      },
      "source": [
        "#Finding the best values for p,d,q for ARIMA Model\n",
        "\n",
        "covid_model = ARIMA(covid_train,order=(0,1,1))\n",
        "\n",
        "#fitting the model\n",
        "# transparams=True, meaning the model should ensure for the stationary time series data\n",
        "covid_model_fit = covid_model.fit(transparams=True) \n",
        "\n",
        "#printing the summary\n",
        "covid_model_fit.summary(), covid_model_fit.params"
      ],
      "execution_count": null,
      "outputs": [
        {
          "output_type": "execute_result",
          "data": {
            "text/plain": [
              "(<class 'statsmodels.iolib.summary.Summary'>\n",
              " \"\"\"\n",
              "                              ARIMA Model Results                              \n",
              " ==============================================================================\n",
              " Dep. Variable:                    D.y   No. Observations:                   49\n",
              " Model:                 ARIMA(0, 1, 1)   Log Likelihood                -247.226\n",
              " Method:                       css-mle   S.D. of innovations             37.092\n",
              " Date:                Fri, 03 Jul 2020   AIC                            500.452\n",
              " Time:                        20:51:53   BIC                            506.127\n",
              " Sample:                             1   HQIC                           502.605\n",
              "                                                                               \n",
              " ==============================================================================\n",
              "                  coef    std err          z      P>|z|      [0.025      0.975]\n",
              " ------------------------------------------------------------------------------\n",
              " const         25.0334      9.720      2.575      0.013       5.982      44.085\n",
              " ma.L1.D.y      0.8502      0.091      9.337      0.000       0.672       1.029\n",
              "                                     Roots                                    \n",
              " =============================================================================\n",
              "                   Real          Imaginary           Modulus         Frequency\n",
              " -----------------------------------------------------------------------------\n",
              " MA.1           -1.1763           +0.0000j            1.1763            0.5000\n",
              " -----------------------------------------------------------------------------\n",
              " \"\"\", array([25.03344198,  0.85015866]))"
            ]
          },
          "metadata": {
            "tags": []
          },
          "execution_count": 38
        }
      ]
    },
    {
      "cell_type": "code",
      "metadata": {
        "id": "JPCjSB20cvfb",
        "colab": {
          "base_uri": "https://localhost:8080/",
          "height": 204
        },
        "outputId": "35c78634-0b26-416f-fb74-03d4257e01ee"
      },
      "source": [
        "## Forecasting the covid cases for 2 future dates i.e. 22/03/2020 and 23/03/2020\n",
        "covid_forecast = covid_model_fit.forecast(steps=2)[0] \n",
        "\n",
        "\n",
        "print(\"*\"*50)\n",
        "print(\"Actual Covid Cases for 22-03-2020:-\",np.round(covid_test[0]))\n",
        "print(\"Actual Covid Cases for 23-03-2020:-\",np.round(covid_test[1]))\n",
        "print(\"*\"*50)\n",
        "\n",
        "print(\"*\"*50)\n",
        "print(\"Predicted Covid Cases for 22-03-2020:-\",np.round(covid_forecast[0]))\n",
        "print(\"Predicted Covid Cases for 23-03-2020:-\",np.round(covid_forecast[1]))\n",
        "print(\"*\"*50)\n",
        "\n",
        "\n",
        "print(\"*\"*50)\n",
        "print(\"Root Mean Square Error:-\",np.sqrt(mean_squared_error(covid_test,covid_forecast)))\n",
        "print(\"*\"*50)"
      ],
      "execution_count": null,
      "outputs": [
        {
          "output_type": "stream",
          "text": [
            "**************************************************\n",
            "Actual Covid Cases for 22-03-2020:- [1314.]\n",
            "Actual Covid Cases for 23-03-2020:- [1314.]\n",
            "**************************************************\n",
            "**************************************************\n",
            "Predicted Covid Cases for 22-03-2020:- 1275.0\n",
            "Predicted Covid Cases for 23-03-2020:- 1300.0\n",
            "**************************************************\n",
            "**************************************************\n",
            "Root Mean Square Error:- 29.711376639558353\n",
            "**************************************************\n"
          ],
          "name": "stdout"
        }
      ]
    }
  ]
}